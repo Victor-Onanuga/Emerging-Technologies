{
 "cells": [
  {
   "cell_type": "markdown",
   "id": "251e2ce7-ff92-479e-b2ca-9696890b0268",
   "metadata": {},
   "source": [
    "# Quantum Computing"
   ]
  },
  {
   "cell_type": "markdown",
   "id": "591c1830-3e40-4db5-9897-2698d3728d75",
   "metadata": {},
   "source": [
    "### What is Quantum computing"
   ]
  },
  {
   "cell_type": "markdown",
   "id": "d4c6a340-2a0a-4234-8a9a-5117c48cb5ed",
   "metadata": {},
   "source": [
    "- To understand how matter and energy interact on an atomic and subatomic level, quantum mechanics is the most important theory. Quantum physics and quantum mechanics are terms used to describe the behavior and appearance of matter and energy at that level. What is the connection between quantum computing and quantum theory? Is it true that quantum computing is an area of computing that uses quantum theory to make computer technology work? Information can only be encoded in bits with a value of 1 or 0 using classical computering, which is the predominant form in use today. Quantum computing, on the other hand, makes use of units known as \"quantum bits\" or \"qubits.\" Using subatomic particles' unique ability to exist in multiple states at once, it achieves its goal (i.e., a 1 and a 0 at the same time)"
   ]
  },
  {
   "cell_type": "markdown",
   "id": "1bf7cf6d-bc7b-42fa-9f81-69fb04914eae",
   "metadata": {},
   "source": [
    "- \"Quantum computing is a type of computation that harnesses the collective properties of quantum states, such as superposition, interference and entanglement, to perform calculations. The devices that perform quantum computations are known as quantum computers.\"\n",
    "- It began in 1980, when a scientist named Paul Benioff suggested a quantum mechanical model of the Turing computer, which was employed for mathematical computation at the time. These gadgets manipulated symbols on a strip of tape in order to do calculations. They were mostly used to determine the bounds of what could be computed. In 1998, Isaac Chuang, Neil Gershenfeld, and Mark Kubinec developed the first quantum computer capable of performing two-bit computations.\n",
    "\n",
    "- Since then, major investment in quantum computing has occurred in both the corporate and public sectors, including Google AI's partnership with NASA in 2019, which claimed to have performed a quantum computation that was previously impossible on any classical computer.\n",
    "- There are various different types of quantum computers, collectively referred to as quantum computing systems:\n",
    "    - Adiabatic Quantum Computer\n",
    "    - One-way Quantum Computer\n",
    "    - Quantum Cellular Automata"
   ]
  },
  {
   "cell_type": "markdown",
   "id": "3751bb2e-84fb-47c5-a92e-147f3188c750",
   "metadata": {},
   "source": [
    "### Adiabatic Quantum Computer\n",
    "- The adiabatic theorem is used by AQC to perform calculations. Hamiltonian is the system opperator that represents the sum of the system's kinetic and potential energy, and is used here. Adiabatic evolution leads to the complex Hamiltonian of interest. The adiabatic theorem ensures that the system remains in its initial state. In the end, this helps to ensure that the status of the system reflects the solution to the issue.\n",
    "\n",
    "- In the circuit model, adiabatic quantum computing has been found to be equal to conventional quantum computing."
   ]
  },
  {
   "cell_type": "markdown",
   "id": "a4e2bcb3-9cb6-407b-9cf6-bf92611e4f52",
   "metadata": {},
   "source": [
    "### One-way Quantum Computer\n",
    "- Entanglement, a phenomena that occurs when a group of particles create, interact, or share spatial proximity in a way that the quantum state of each particle of the group cannot be characterized independently of the state of the others, is used in one-way quantum computation. These conditions are referred to as a cluster or graph state. Single-qubit measurements are used to provide universal quantum computations.\n",
    "\n",
    "- The graph state's resource-conserving character is reflected in its name, which is called \"one-way\". In contrast to the typical network model's reversible gates, which may be used multiple times, projective measures can only be used once (the resource state is destroyed during the measurements)."
   ]
  },
  {
   "cell_type": "markdown",
   "id": "0605393a-26ba-4d4e-b2dc-a59e84939601",
   "metadata": {},
   "source": [
    "### Quantum Cellular Automata\n",
    "- Using iterations of a unitary quantum operator G, QCA evolves in discrete time steps from arrays of identical finite-dimensional quantum systems.\n",
    "\n",
    "- An architecture for networked quantum computation is provided by the QCA model/architecture. Quantum theory in discrete space and time is covered by them."
   ]
  },
  {
   "cell_type": "markdown",
   "id": "5751c958-e222-4301-9255-4a367a1ae2be",
   "metadata": {},
   "source": [
    "### What is necessary for it?"
   ]
  },
  {
   "cell_type": "markdown",
   "id": "a2b7bc63-ca47-4f81-8ced-b86606b000c9",
   "metadata": {},
   "source": [
    "-  A quantum bit, also known as a qubit, is the basic memory unit in a quantum computer. There are many physical systems that can be used to create qubits, such as electron spin or photon orientation. A characteristic known as quantum superposition allows these systems to be in a variety of configurations at once."
   ]
  },
  {
   "cell_type": "markdown",
   "id": "6b4badaa-28cb-44fa-91a0-84ea65177b35",
   "metadata": {},
   "source": [
    "- Light particles, or photons, can be stored in a photonic quantum computer, which is a smaller form of quantum computing. A photon emitter can be used as the light source for the controllable photons. The polarizability of photons, or even just asking which of two optical fibers a photon has passed through, can be used to store quantum information."
   ]
  },
  {
   "cell_type": "markdown",
   "id": "2924dd8a-ac41-4fbe-a290-6b74712a9944",
   "metadata": {},
   "source": [
    "- Following that are optical components that can superposition photons and apply gates, such as a beam splitter that divides photons into two channels."
   ]
  },
  {
   "cell_type": "markdown",
   "id": "1e0af9aa-0010-4859-83ca-6383d923c790",
   "metadata": {},
   "source": [
    "- Lastly, a camera/detector is necessary to ascertain the photon's final state."
   ]
  },
  {
   "cell_type": "markdown",
   "id": "65ba897d-4f8c-4c69-b047-e856a9f68071",
   "metadata": {},
   "source": [
    "#### It takes a wardrobe-sized amount of electronic equipment to run a full quantum computer, but the core of the machine is a heart of qubits that stores data in quantum form. The following illustrates the process: Superfluids, Superconductors, Control, Superposition, & Entanglement."
   ]
  },
  {
   "cell_type": "markdown",
   "id": "f0ebbfe7-2b31-47e3-8047-b8ef39d7aad0",
   "metadata": {},
   "source": [
    "1. To begin, we cool superconductors using superfluids. In order to achieve the lowest possible temperature for superconductors, we chill them down to one hundredth of a degree Celsius above absolute zero. \n",
    "\n",
    "2. Cooper pairs are formed when electrons flow through superconductors (a pair of electrons bound together at low temperatures in a certain manner first described in 1956 by American physicist Leon Cooper). The Josephson junction is where the Cooper pairs quantum tunnel.\n",
    "\n",
    "3. This is a superconducting qubit in essence. Using photons to excite the qubit, we may manipulate its behavior to store, modify, and read data.\n",
    "\n",
    "4. A qubit by itself isn't particularly useful. The Superposition state allows us to generate enormous computational environments by joining numerous nodes together. Using programmable gates, we can then express complicated issues in this space.\n",
    "\n",
    "5. The random behavior of qubits can be precisely coordinated thanks to quantum entanglement. Complex issues can be solved more quickly with the aid of quantum algorithms that take advantage of entanglement."
   ]
  },
  {
   "cell_type": "markdown",
   "id": "27461a1d-e039-4899-b2b0-48f836856aa5",
   "metadata": {},
   "source": [
    "### What is the purpose of Quantum Computing?"
   ]
  },
  {
   "cell_type": "markdown",
   "id": "eb4e043e-fc60-417d-bab8-8edc7487130e",
   "metadata": {},
   "source": [
    "- In the real world, there are just too many variables for a computer to keep track of in its working memory."
   ]
  },
  {
   "cell_type": "markdown",
   "id": "f3ebad0f-f330-4031-a50e-ab61563d56c8",
   "metadata": {},
   "source": [
    "- It can take a long time for supercomputers to analyze each option one at a time."
   ]
  },
  {
   "cell_type": "markdown",
   "id": "1e1945ee-2872-4efc-84f6-82ea29a6da38",
   "metadata": {},
   "source": [
    "- A discrete or reducible collection of possible solutions is required for combinatorial optimisation, which involves determining the ideal object from a finite set of objects.\n",
    "    - Quantum computing is already being used in several real-world applications. Quantum computing has been essential in helping scientists uncover new materials, such as Higgs events and the universe's origins as well as a new generation of electric vehicles powered by quantum battery technology.\n",
    "    - To find an item in an enormous database, a classical computer would have to search through at least half the list to the entire database. On the other hand, using Grover's search on a quantum computer just requires the list's square root, which is equivalent to:\n",
    "        - Quantum computer about 1 second\n",
    "        - Classical computer about 1 week"
   ]
  },
  {
   "cell_type": "markdown",
   "id": "7fef22a2-c327-4691-b175-fad99be52166",
   "metadata": {},
   "source": [
    "# Quantum Computing vs Classical Computing"
   ]
  },
  {
   "cell_type": "markdown",
   "id": "9bb8ecf2-bfca-4d90-96c3-58461a07d439",
   "metadata": {},
   "source": [
    "- There are some computational tasks, such as integer factorization, that quantum computers may be able to solve far quicker than conventional computers, despite the fact that present quantum computers are small."
   ]
  },
  {
   "cell_type": "markdown",
   "id": "9c1acfa1-8dfe-408d-92db-c57ed20746ee",
   "metadata": {},
   "source": [
    "- According to some estimates, quantum computing is up to 100 million times faster than a classical computer. A classical computer would have taken 10,000 years to complete the same task on Google's Sycamore quantum computer in 200 seconds."
   ]
  },
  {
   "cell_type": "markdown",
   "id": "5d499107-5454-45bb-8cb2-f3c57fbd7c64",
   "metadata": {},
   "source": [
    "- Quantum tunneling reduces power consumption by up to a 1000 times compared with classical computer"
   ]
  },
  {
   "cell_type": "markdown",
   "id": "faa3b1e9-3d6b-4633-b6a7-21b574da3a33",
   "metadata": {},
   "source": [
    "- Binary code is used to store data in both classical and quantum computers. A 1 or a 0 is how classical computers store data in bits, while a1 or a0 or both simultaneously are how quantum computers store data in qubits."
   ]
  },
  {
   "cell_type": "markdown",
   "id": "ac795749-e546-4ada-82a1-55f48b9efd93",
   "metadata": {},
   "source": [
    "- Classical computers are still the best choice for most people's day-to-day needs. When it comes to conducting drug or chemical trials, quantum computers are the perfect tool for running simulations and analyzing data."
   ]
  },
  {
   "cell_type": "markdown",
   "id": "9386abda-ec8c-4380-836b-f4374f9c3b90",
   "metadata": {},
   "source": [
    "- Increasing the number of qubits that are linked together increases quantum computing power exponentially. Adding more transistors to a classical computer increases power in a linear manner."
   ]
  },
  {
   "cell_type": "markdown",
   "id": "cb25e07b-12bd-499f-8317-d3fb1c5de1f8",
   "metadata": {},
   "source": [
    "# The Deutsch-Jozsa algorithm\n",
    "\n",
    "https://qiskit.org/textbook/ch-algorithms/deutsch-jozsa.html"
   ]
  },
  {
   "cell_type": "markdown",
   "id": "a4f635a0-642c-48ac-8359-01b44839a848",
   "metadata": {},
   "source": [
    "- One algorithm, the Deutsch-Jozsa algorithm, and the \"best classical algorithm\" were tested in the Deutsch-Jozsa problem. A quantum algorithm, the Deutsch-Jozsa algorithm, was the first one to beat the classical algorithm. Quantum computers were shown to be more effective for certain tasks, as this study demonstrated. The two algorithms are compared below, with a few explanations. [Click here](https://en.wikipedia.org/wiki/Deutsch%E2%80%93Jozsa_algorithm) to learn more about the Deutsch Algorithm.\n",
    "\n",
    "- It is possible for xn to be either zero or one, depending on the formula f(X0,X1,X2,...Xn)."
   ]
  },
  {
   "cell_type": "markdown",
   "id": "220a44ad-8907-4fd7-b238-3b880a31ceea",
   "metadata": {},
   "source": [
    "# Deutsch-Algorithm\n",
    "#### The steps I took to develop the Deutsch-Algorithm :\n",
    "1. Import packages\n",
    "2. Initialize registers for constant, balance, and target\n",
    "3. Create circuit for constant oracle\n",
    "4. Create circuit for balance oracle"
   ]
  },
  {
   "cell_type": "code",
   "execution_count": 1,
   "id": "512e0f68-0130-4d50-a9f2-5af53613b871",
   "metadata": {},
   "outputs": [],
   "source": [
    "# Step 1. importing packages\n",
    "import numpy as np\n",
    "import qiskit\n",
    "from qiskit import IBMQ, Aer,QuantumRegister\n",
    "from qiskit.providers.ibmq import least_busy"
   ]
  },
  {
   "cell_type": "code",
   "execution_count": 2,
   "id": "81131b0c-b9f0-4945-8257-50b3c89c8de1",
   "metadata": {},
   "outputs": [],
   "source": [
    "# Step 2. Creating register\n",
    "\n",
    "Qbit = \"10101\" # number of bit in string\n",
    "num_Qbit = len(Qbit)\n",
    "\n",
    "register_Const = QuantumRegister(num_Qbit)\n",
    "register_bal = QuantumRegister(num_Qbit)\n",
    "register_target = QuantumRegister(1)"
   ]
  },
  {
   "cell_type": "code",
   "execution_count": 3,
   "id": "ca70971c-b7ac-4391-994b-cadd453d6a42",
   "metadata": {},
   "outputs": [
    {
     "data": {
      "text/html": [
       "<pre style=\"word-wrap: normal;white-space: pre;background: #fff0;line-height: 1.1;font-family: &quot;Courier New&quot;,Courier,monospace\">           \n",
       "q0_0: ─────\n",
       "           \n",
       "q0_1: ─────\n",
       "           \n",
       "q0_2: ─────\n",
       "           \n",
       "q0_3: ─────\n",
       "           \n",
       "q0_4: ─────\n",
       "      ┌───┐\n",
       "  q2: ┤ I ├\n",
       "      └───┘</pre>"
      ],
      "text/plain": [
       "           \n",
       "q0_0: ─────\n",
       "           \n",
       "q0_1: ─────\n",
       "           \n",
       "q0_2: ─────\n",
       "           \n",
       "q0_3: ─────\n",
       "           \n",
       "q0_4: ─────\n",
       "      ┌───┐\n",
       "  q2: ┤ I ├\n",
       "      └───┘"
      ]
     },
     "execution_count": 3,
     "metadata": {},
     "output_type": "execute_result"
    }
   ],
   "source": [
    "# Step 3. Creating circuit for constant oracle\n",
    "\n",
    "#const_oracle for function that = 0\n",
    "const_oracle_1 = qiskit.QuantumCircuit(register_Const, register_target)\n",
    "const_oracle_1.x(num_Qbit) #Draws x\n",
    "\n",
    "#const_oracle for function that = 1\n",
    "const_oracle_2 = qiskit.QuantumCircuit(register_Const, register_target)\n",
    "const_oracle_2.i(num_Qbit) #Draws I\n",
    "\n",
    "const_oracle_1.draw() #Draw\n",
    "const_oracle_2.draw()"
   ]
  },
  {
   "cell_type": "code",
   "execution_count": 4,
   "id": "a2f0d6e1-3a27-463f-ab1f-ce0057757d85",
   "metadata": {},
   "outputs": [
    {
     "data": {
      "text/html": [
       "<pre style=\"word-wrap: normal;white-space: pre;background: #fff0;line-height: 1.1;font-family: &quot;Courier New&quot;,Courier,monospace\">      ┌───┐ ░                           ░ ┌───┐\n",
       "q1_0: ┤ X ├─░───■───────────────────────░─┤ X ├\n",
       "      └───┘ ░   │                       ░ └───┘\n",
       "q1_1: ──────░───┼────■──────────────────░──────\n",
       "      ┌───┐ ░   │    │                  ░ ┌───┐\n",
       "q1_2: ┤ X ├─░───┼────┼────■─────────────░─┤ X ├\n",
       "      └───┘ ░   │    │    │             ░ └───┘\n",
       "q1_3: ──────░───┼────┼────┼────■────────░──────\n",
       "      ┌───┐ ░   │    │    │    │        ░ ┌───┐\n",
       "q1_4: ┤ X ├─░───┼────┼────┼────┼────■───░─┤ X ├\n",
       "      └───┘ ░ ┌─┴─┐┌─┴─┐┌─┴─┐┌─┴─┐┌─┴─┐ ░ └───┘\n",
       "  q2: ──────░─┤ X ├┤ X ├┤ X ├┤ X ├┤ X ├─░──────\n",
       "            ░ └───┘└───┘└───┘└───┘└───┘ ░      </pre>"
      ],
      "text/plain": [
       "      ┌───┐ ░                           ░ ┌───┐\n",
       "q1_0: ┤ X ├─░───■───────────────────────░─┤ X ├\n",
       "      └───┘ ░   │                       ░ └───┘\n",
       "q1_1: ──────░───┼────■──────────────────░──────\n",
       "      ┌───┐ ░   │    │                  ░ ┌───┐\n",
       "q1_2: ┤ X ├─░───┼────┼────■─────────────░─┤ X ├\n",
       "      └───┘ ░   │    │    │             ░ └───┘\n",
       "q1_3: ──────░───┼────┼────┼────■────────░──────\n",
       "      ┌───┐ ░   │    │    │    │        ░ ┌───┐\n",
       "q1_4: ┤ X ├─░───┼────┼────┼────┼────■───░─┤ X ├\n",
       "      └───┘ ░ ┌─┴─┐┌─┴─┐┌─┴─┐┌─┴─┐┌─┴─┐ ░ └───┘\n",
       "  q2: ──────░─┤ X ├┤ X ├┤ X ├┤ X ├┤ X ├─░──────\n",
       "            ░ └───┘└───┘└───┘└───┘└───┘ ░      "
      ]
     },
     "execution_count": 4,
     "metadata": {},
     "output_type": "execute_result"
    }
   ],
   "source": [
    "#4 Creating circuit for balance oracle\n",
    "bal_oracle = qiskit.QuantumCircuit(register_bal, register_target)\n",
    "\n",
    "Qbit = \"10101\"\n",
    "num_Qbit = len(Qbit)\n",
    "\n",
    "# Place X-gates\n",
    "for qubit in range(num_Qbit):\n",
    "    if Qbit[qubit] == '1':\n",
    "        bal_oracle.x(qubit)\n",
    "       \n",
    "bal_oracle.barrier()\n",
    "\n",
    "for qubit in range(num_Qbit):\n",
    "    bal_oracle.cx(qubit, num_Qbit)\n",
    "\n",
    "bal_oracle.barrier()\n",
    "\n",
    "for qubit in range(num_Qbit):\n",
    "    if Qbit[qubit] == '1':\n",
    "        bal_oracle.x(qubit)\n",
    "       \n",
    "\n",
    "bal_oracle.draw()\n",
    "\n",
    "\n"
   ]
  },
  {
   "cell_type": "code",
   "execution_count": 7,
   "id": "b83fae4d-b0fe-4f8f-9e6f-e11abaad4dba",
   "metadata": {},
   "outputs": [
    {
     "data": {
      "image/png": "[encoded data removed]",
      "text/plain": [
       "<Figure size 160.069x385.28 with 1 Axes>"
      ]
     },
     "execution_count": 7,
     "metadata": {},
     "output_type": "execute_result"
    }
   ],
   "source": [
    "#5. Initialize two quantum registers.\n",
    "import pylatexenc\n",
    "\n",
    "Qbit = \"10101\"\n",
    "num_Qbit = len(Qbit)\n",
    "\n",
    "register_input = QuantumRegister(num_Qbit)\n",
    "register_output = QuantumRegister(1)\n",
    "\n",
    "circuit = qiskit.QuantumCircuit(register_input, register_output)\n",
    "\n",
    "for x in range (num_Qbit):\n",
    "    circuit.initialize(0, x)\n",
    "\n",
    "circuit.initialize(1, num_Qbit)\n",
    "circuit.draw(output='mpl')\n",
    "\n",
    "\n",
    "\n",
    "\n"
   ]
  },
  {
   "cell_type": "code",
   "execution_count": null,
   "id": "75761c9a-63be-4d7e-8b35-52d63c3d5133",
   "metadata": {},
   "outputs": [],
   "source": []
  },
  {
   "cell_type": "code",
   "execution_count": null,
   "id": "33501d2b-9c14-4fd8-a3fb-159eca9dde77",
   "metadata": {},
   "outputs": [],
   "source": []
  },
  {
   "cell_type": "code",
   "execution_count": null,
   "id": "04c1f214-3357-4e39-bf35-2ec567b7d6fa",
   "metadata": {},
   "outputs": [],
   "source": []
  }
 ],
 "metadata": {
  "kernelspec": {
   "display_name": "Python 3 (ipykernel)",
   "language": "python",
   "name": "python3"
  },
  "language_info": {
   "codemirror_mode": {
    "name": "ipython",
    "version": 3
   },
   "file_extension": ".py",
   "mimetype": "text/x-python",
   "name": "python",
   "nbconvert_exporter": "python",
   "pygments_lexer": "ipython3",
   "version": "3.8.12"
  }
 },
 "nbformat": 4,
 "nbformat_minor": 5
}
