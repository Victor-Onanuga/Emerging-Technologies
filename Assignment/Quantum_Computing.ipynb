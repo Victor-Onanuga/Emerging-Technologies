{
 "cells": [
  {
   "cell_type": "markdown",
   "id": "251e2ce7-ff92-479e-b2ca-9696890b0268",
   "metadata": {},
   "source": [
    "# Quantum Computing"
   ]
  },
  {
   "cell_type": "markdown",
   "id": "591c1830-3e40-4db5-9897-2698d3728d75",
   "metadata": {},
   "source": [
    "### What is Quantum computing"
   ]
  },
  {
   "cell_type": "markdown",
   "id": "d4c6a340-2a0a-4234-8a9a-5117c48cb5ed",
   "metadata": {},
   "source": [
    "- To understand how matter and energy interact on an atomic and subatomic level, quantum mechanics is the most important theory. Quantum physics and quantum mechanics are terms used to describe the behavior and appearance of matter and energy at that level. What is the connection between quantum computing and quantum theory? Is it true that quantum computing is an area of computing that uses quantum theory to make computer technology work? Information can only be encoded in bits with a value of 1 or 0 using classical computering, which is the predominant form in use today. Quantum computing, on the other hand, makes use of units known as \"quantum bits\" or \"qubits.\" Using subatomic particles' unique ability to exist in multiple states at once, it achieves its goal (i.e., a 1 and a 0 at the same time)"
   ]
  },
  {
   "cell_type": "markdown",
   "id": "5751c958-e222-4301-9255-4a367a1ae2be",
   "metadata": {},
   "source": [
    "### What is necessary for it?"
   ]
  },
  {
   "cell_type": "markdown",
   "id": "a2b7bc63-ca47-4f81-8ced-b86606b000c9",
   "metadata": {},
   "source": [
    "-  A quantum bit, also known as a qubit, is the basic memory unit in a quantum computer. There are many physical systems that can be used to create qubits, such as electron spin or photon orientation. A characteristic known as quantum superposition allows these systems to be in a variety of configurations at once."
   ]
  },
  {
   "cell_type": "markdown",
   "id": "6b4badaa-28cb-44fa-91a0-84ea65177b35",
   "metadata": {},
   "source": [
    "- Light particles, or photons, can be stored in a photonic quantum computer, which is a smaller form of quantum computing. A photon emitter can be used as the light source for the controllable photons. The polarizability of photons, or even just asking which of two optical fibers a photon has passed through, can be used to store quantum information."
   ]
  },
  {
   "cell_type": "markdown",
   "id": "2924dd8a-ac41-4fbe-a290-6b74712a9944",
   "metadata": {},
   "source": [
    "- Following that are optical components that can superposition photons and apply gates, such as a beam splitter that divides photons into two channels."
   ]
  },
  {
   "cell_type": "markdown",
   "id": "1e0af9aa-0010-4859-83ca-6383d923c790",
   "metadata": {},
   "source": [
    "- Lastly, a camera/detector is necessary to ascertain the photon's final state."
   ]
  },
  {
   "cell_type": "markdown",
   "id": "65ba897d-4f8c-4c69-b047-e856a9f68071",
   "metadata": {},
   "source": [
    "#### It takes a wardrobe-sized amount of electronic equipment to run a full quantum computer, but the core of the machine is a heart of qubits that stores data in quantum form. The following illustrates the process: Superfluids, Superconductors, Control, Superposition, & Entanglement."
   ]
  },
  {
   "cell_type": "markdown",
   "id": "f0ebbfe7-2b31-47e3-8047-b8ef39d7aad0",
   "metadata": {},
   "source": [
    "1. To begin, we cool superconductors using superfluids. In order to achieve the lowest possible temperature for superconductors, we chill them down to one hundredth of a degree Celsius above absolute zero. \n",
    "\n",
    "2. Cooper pairs are formed when electrons flow through superconductors (a pair of electrons bound together at low temperatures in a certain manner first described in 1956 by American physicist Leon Cooper). The Josephson junction is where the Cooper pairs quantum tunnel.\n",
    "\n",
    "3. This is a superconducting qubit in essence. Using photons to excite the qubit, we may manipulate its behavior to store, modify, and read data.\n",
    "\n",
    "4. A qubit by itself isn't particularly useful. The Superposition state allows us to generate enormous computational environments by joining numerous nodes together. Using programmable gates, we can then express complicated issues in this space.\n",
    "\n",
    "5. The random behavior of qubits can be precisely coordinated thanks to quantum entanglement. Complex issues can be solved more quickly with the aid of quantum algorithms that take advantage of entanglement."
   ]
  },
  {
   "cell_type": "markdown",
   "id": "27461a1d-e039-4899-b2b0-48f836856aa5",
   "metadata": {},
   "source": [
    "### What is the purpose of Quantum Computing?"
   ]
  },
  {
   "cell_type": "markdown",
   "id": "eb4e043e-fc60-417d-bab8-8edc7487130e",
   "metadata": {},
   "source": [
    "- In the real world, there are just too many variables for a computer to keep track of in its working memory."
   ]
  },
  {
   "cell_type": "markdown",
   "id": "f3ebad0f-f330-4031-a50e-ab61563d56c8",
   "metadata": {},
   "source": [
    "- It can take a long time for supercomputers to analyze each option one at a time."
   ]
  },
  {
   "cell_type": "markdown",
   "id": "1e1945ee-2872-4efc-84f6-82ea29a6da38",
   "metadata": {},
   "source": [
    "- A discrete or reducible collection of possible solutions is required for combinatorial optimisation, which involves determining the ideal object from a finite set of objects.\n",
    "    - Quantum computing is already being used in several real-world applications. Quantum computing has been essential in helping scientists uncover new materials, such as Higgs events and the universe's origins as well as a new generation of electric vehicles powered by quantum battery technology.\n",
    "    - To find an item in an enormous database, a classical computer would have to search through at least half the list to the entire database. On the other hand, using Grover's search on a quantum computer just requires the list's square root, which is equivalent to:\n",
    "        - Quantum computer about 1 second\n",
    "        - Classical computer about 1 week"
   ]
  },
  {
   "cell_type": "markdown",
   "id": "8ae76df5-2739-43dd-8802-a48928fd274f",
   "metadata": {},
   "source": []
  },
  {
   "cell_type": "markdown",
   "id": "c1f62d9f-3bc6-410f-8eb5-8774e6cebc3b",
   "metadata": {},
   "source": []
  },
  {
   "cell_type": "markdown",
   "id": "7fef22a2-c327-4691-b175-fad99be52166",
   "metadata": {},
   "source": [
    "# Quantum Computing vs Classical Computing"
   ]
  },
  {
   "cell_type": "markdown",
   "id": "9c1acfa1-8dfe-408d-92db-c57ed20746ee",
   "metadata": {},
   "source": [
    "- According to some estimates, quantum computing is up to 100 million times faster than a classical computer. A classical computer would have taken 10,000 years to complete the same task on Google's Sycamore quantum computer in 200 seconds."
   ]
  },
  {
   "cell_type": "markdown",
   "id": "5d499107-5454-45bb-8cb2-f3c57fbd7c64",
   "metadata": {},
   "source": [
    "- Quantum tunneling reduces power consumption by up to a 1000 times compared with classical computer"
   ]
  },
  {
   "cell_type": "markdown",
   "id": "faa3b1e9-3d6b-4633-b6a7-21b574da3a33",
   "metadata": {},
   "source": [
    "- Binary code is used to store data in both classical and quantum computers. A 1 or a 0 is how classical computers store data in bits, while a1 or a0 or both simultaneously are how quantum computers store data in qubits."
   ]
  },
  {
   "cell_type": "markdown",
   "id": "ac795749-e546-4ada-82a1-55f48b9efd93",
   "metadata": {},
   "source": [
    "- Classical computers are still the best choice for most people's day-to-day needs. When it comes to conducting drug or chemical trials, quantum computers are the perfect tool for running simulations and analyzing data."
   ]
  },
  {
   "cell_type": "markdown",
   "id": "9386abda-ec8c-4380-836b-f4374f9c3b90",
   "metadata": {},
   "source": [
    "- Increasing the number of qubits that are linked together increases quantum computing power exponentially. Adding more transistors to a classical computer increases power in a linear manner."
   ]
  },
  {
   "cell_type": "markdown",
   "id": "cb25e07b-12bd-499f-8317-d3fb1c5de1f8",
   "metadata": {},
   "source": [
    "# The Deutsch-Jozsa algorithm\n",
    "\n",
    "https://qiskit.org/textbook/ch-algorithms/deutsch-jozsa.html"
   ]
  },
  {
   "cell_type": "markdown",
   "id": "a4f635a0-642c-48ac-8359-01b44839a848",
   "metadata": {},
   "source": [
    "- One algorithm, the Deutsch-Jozsa algorithm, and the \"best classical algorithm\" were tested in the Deutsch-Jozsa problem. A quantum algorithm, the Deutsch-Jozsa algorithm, was the first one to beat the classical algorithm. Quantum computers were shown to be more effective for certain tasks, as this study demonstrated. The two algorithms are compared below, with a few explanations. [Click here](https://en.wikipedia.org/wiki/Deutsch%E2%80%93Jozsa_algorithm) to learn more about the Deutsch Algorithm.\n",
    "\n",
    "- It is possible for xn to be either zero or one, depending on the formula f(X0,X1,X2,...Xn)."
   ]
  },
  {
   "cell_type": "code",
   "execution_count": null,
   "id": "55ce94b8-e953-4556-889a-57a99f348704",
   "metadata": {},
   "outputs": [],
   "source": []
  }
 ],
 "metadata": {
  "kernelspec": {
   "display_name": "Python 3 (ipykernel)",
   "language": "python",
   "name": "python3"
  },
  "language_info": {
   "codemirror_mode": {
    "name": "ipython",
    "version": 3
   },
   "file_extension": ".py",
   "mimetype": "text/x-python",
   "name": "python",
   "nbconvert_exporter": "python",
   "pygments_lexer": "ipython3",
   "version": "3.8.12"
  }
 },
 "nbformat": 4,
 "nbformat_minor": 5
}
