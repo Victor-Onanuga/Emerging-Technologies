{
 "cells": [
  {
   "cell_type": "markdown",
   "id": "251e2ce7-ff92-479e-b2ca-9696890b0268",
   "metadata": {},
   "source": [
    "# Quantum Computing"
   ]
  },
  {
   "cell_type": "markdown",
   "id": "591c1830-3e40-4db5-9897-2698d3728d75",
   "metadata": {},
   "source": [
    "### What is Quantum computing"
   ]
  },
  {
   "cell_type": "markdown",
   "id": "d4c6a340-2a0a-4234-8a9a-5117c48cb5ed",
   "metadata": {},
   "source": [
    "- To understand how matter and energy interact on an atomic and subatomic level, quantum mechanics is the most important theory. Quantum physics and quantum mechanics are terms used to describe the behavior and appearance of matter and energy at that level. What is the connection between quantum computing and quantum theory? Is it true that quantum computing is an area of computing that uses quantum theory to make computer technology work? Information can only be encoded in bits with a value of 1 or 0 using classical computering, which is the predominant form in use today. Quantum computing, on the other hand, makes use of units known as \"quantum bits\" or \"qubits.\" Using subatomic particles' unique ability to exist in multiple states at once, it achieves its goal (i.e., a 1 and a 0 at the same time)"
   ]
  },
  {
   "cell_type": "markdown",
   "id": "7fef22a2-c327-4691-b175-fad99be52166",
   "metadata": {},
   "source": [
    "# Quantum Computing vs Classical Computing"
   ]
  },
  {
   "cell_type": "markdown",
   "id": "9c1acfa1-8dfe-408d-92db-c57ed20746ee",
   "metadata": {},
   "source": [
    "- According to some estimates, quantum computing is up to 100 million times faster than a classical computer. A classical computer would have taken 10,000 years to complete the same task on Google's Sycamore quantum computer in 200 seconds."
   ]
  },
  {
   "cell_type": "markdown",
   "id": "5d499107-5454-45bb-8cb2-f3c57fbd7c64",
   "metadata": {},
   "source": [
    "- Quantum tunneling reduces power consumption by up to a 1000 times compared with classical computer"
   ]
  },
  {
   "cell_type": "markdown",
   "id": "faa3b1e9-3d6b-4633-b6a7-21b574da3a33",
   "metadata": {},
   "source": [
    "- Binary code is used to store data in both classical and quantum computers. A 1 or a 0 is how classical computers store data in bits, while a1 or a0 or both simultaneously are how quantum computers store data in qubits."
   ]
  },
  {
   "cell_type": "markdown",
   "id": "ac795749-e546-4ada-82a1-55f48b9efd93",
   "metadata": {},
   "source": [
    "- Classical computers are still the best choice for most people's day-to-day needs. When it comes to conducting drug or chemical trials, quantum computers are the perfect tool for running simulations and analyzing data."
   ]
  },
  {
   "cell_type": "markdown",
   "id": "9386abda-ec8c-4380-836b-f4374f9c3b90",
   "metadata": {},
   "source": [
    "- Increasing the number of qubits that are linked together increases quantum computing power exponentially. Adding more transistors to a classical computer increases power in a linear manner."
   ]
  },
  {
   "cell_type": "markdown",
   "id": "cb25e07b-12bd-499f-8317-d3fb1c5de1f8",
   "metadata": {},
   "source": [
    "# The Deutsch-Jozsa algorithm"
   ]
  },
  {
   "cell_type": "markdown",
   "id": "a4f635a0-642c-48ac-8359-01b44839a848",
   "metadata": {},
   "source": [
    "- One algorithm, the Deutsch-Jozsa algorithm, and the \"best classical algorithm\" were tested in the Deutsch-Jozsa problem. A quantum algorithm, the Deutsch-Jozsa algorithm, was the first one to beat the classical algorithm. Quantum computers were shown to be more effective for certain tasks, as this study demonstrated. The two algorithms are compared below, with a few explanations. [Click here](https://en.wikipedia.org/wiki/Deutsch%E2%80%93Jozsa_algorithm) to learn more about the Deutsch Algorithm.\n",
    "\n",
    "- It is possible for xn to be either zero or one, depending on the formula f(X0,X1,X2,...Xn)."
   ]
  },
  {
   "cell_type": "code",
   "execution_count": null,
   "id": "55ce94b8-e953-4556-889a-57a99f348704",
   "metadata": {},
   "outputs": [],
   "source": []
  }
 ],
 "metadata": {
  "kernelspec": {
   "display_name": "Python 3 (ipykernel)",
   "language": "python",
   "name": "python3"
  },
  "language_info": {
   "codemirror_mode": {
    "name": "ipython",
    "version": 3
   },
   "file_extension": ".py",
   "mimetype": "text/x-python",
   "name": "python",
   "nbconvert_exporter": "python",
   "pygments_lexer": "ipython3",
   "version": "3.8.12"
  }
 },
 "nbformat": 4,
 "nbformat_minor": 5
}
