{
 "cells": [
  {
   "cell_type": "markdown",
   "id": "d6db8bf7-b09e-4641-a7db-e8322e8c400b",
   "metadata": {},
   "source": [
    "# Algorithm No.1\n",
    "### Using the scikit-learn classification technique to recognize handwritten digits.\n",
    "\n",
    "The svm classifier will be the basis for my first scikit-learn example method (support vector machine). Classifying photographs of handwritten digits, from 0-9, as demonstrated in this example by using scikit-learns classification method.\n",
    "\n",
    "- Classification is a predictive modeling task where a class label is predicted for a given example of input data in machine learning.\n",
    "\n",
    "#### The steps I took to develop the classification algorithm for hand-written digit recognition :\n",
    "1. Import required packages - We must import datasets, metrics, svm, and model selection.train test split from the sklearn package.\n",
    "- Classifiers such as (KNeighborsClassifier) can be used, however for the purposes of this example, I'll be utilizing the svm. - To visualize the data, I imported matplotlib.pyplot.\n",
    "\n",
    "2. For each algorithm, scikit-learn provides a sample dataset that may be loaded or created.\n",
    "- The following is an example of a Boston real estate pricing dataset (based on 1978 data from 'Hedonic prices and the need for clean air').\n",
    "- Dataset for optical recognition of handwritten digits will be used in this algorithm.\n",
    "\n",
    "3. It is necessary to flatten the photos because they are currently a two-dimensional array of grayscale values (8, 8). There are 8 dimensions and 8 elements for each dimension in the array values of the images in the arrays. [1,2,3,4,5,6,7,8] is an example array of dimesion[0-7].\n",
    "\n",
    "- Each picture array dimension must be converted to a single 64-element array dimension. As a result, each image will have a single 64-element array instead of an 8x8 matrix of images.\n",
    "\n",
    "- As a last step, we build a new dataset that just contains the pictures value (number of samples and number of features). With respect to the dataset, the number of images is n samples, and the number of pixels in each image is n features (the reshaped singular array).\n",
    "\n",
    "4. Creating a classifier \n",
    "- A support vector machine (svm) classifier is used to classify our data set.\n",
    "- Svc is a (support vector classifier).\n",
    "\n",
    "5. Split the data into train and test subsets\n",
    "- This is done using the sklearn.model selection module's train.test split() function, which takes three parameters: arrays (the array being split), test size/train size (float) and shuffle (boolean: if the test/train split should be shuffled) (Bool: whether or not to shuffle the data before splitting)\n",
    "- It will partition the dataset containing the flattened photos and the image labels.\n",
    "- test/train size range from 0 to 1. It the fraction of the array we want as test and train. The train values are used to fit the classifier, whereas the test values are utilized for predictions.\n",
    "\n",
    "6. Incorporate the train samples into svc.\n",
    " - Do this by calling the svc.fit() function\n",
    " - the fit parameter takes in the train values: .fit(x_train, y_train)\n",
    " \n",
    "7. Finally use the fitted classifier to predict the value of the test subset.\n",
    "- Do so by executing SVC.predict() with the test values as an argument; this method takes in test values and returns an estimate for each: . predict(x test)\n",
    " "
   ]
  },
  {
   "cell_type": "markdown",
   "id": "9c2ee75b-f4f5-432d-a0c7-bebed72543d9",
   "metadata": {},
   "source": [
    "\n"
   ]
  },
  {
   "cell_type": "code",
   "execution_count": 5,
   "id": "ffbe99b9-66d7-4f11-b714-6babf2c0b9b5",
   "metadata": {},
   "outputs": [],
   "source": [
    "# Step 1. Import datasets, classifiers and performance metrics\n",
    "from sklearn import datasets, svm, metrics\n",
    "from sklearn.neighbors import KNeighborsClassifier\n",
    "from sklearn.model_selection import train_test_split\n",
    "import matplotlib.pyplot as plt"
   ]
  },
  {
   "cell_type": "code",
   "execution_count": null,
   "id": "a52f306c-9052-4519-9c16-3028ed0f3c51",
   "metadata": {},
   "outputs": [
    {
     "name": "stdout",
     "output_type": "stream",
     "text": [
      "Load Digit dataset size is 7 \n"
     ]
    }
   ],
   "source": [
    "# Step 2. Storing Load Digit in digi variable\n",
    "digi = datasets.load_digits()\n",
    "\n",
    "print(\"Load Digit dataset size is %i \" % len(digi))"
   ]
  },
  {
   "cell_type": "code",
   "execution_count": 9,
   "id": "9c7b08b6-aa6a-416a-9b79-509b0d0cdc07",
   "metadata": {},
   "outputs": [
    {
     "name": "stdout",
     "output_type": "stream",
     "text": [
      "The New shape of load_digits() images data is: \n",
      "(1797, 64)\n"
     ]
    }
   ],
   "source": [
    "# Step 3. changing the image form\n",
    "n_samples = len(digi.images)\n",
    "data = digi.images.reshape((n_samples, -1))\n",
    "\n",
    "print(\"The New shape of load_digits() images data is: \" )\n",
    "print(data.shape)"
   ]
  },
  {
   "cell_type": "code",
   "execution_count": 10,
   "id": "525b914a-905c-408b-87b8-409cf30f3fdd",
   "metadata": {},
   "outputs": [],
   "source": [
    "# Step 4. support vector classifier\n",
    "clf = svm.SVC()"
   ]
  },
  {
   "cell_type": "code",
   "execution_count": 11,
   "id": "99d62c7b-4e34-4749-a840-ba008f885c1f",
   "metadata": {},
   "outputs": [],
   "source": [
    "# Step 5. Splitting info into 1/2 test subsets & train \n",
    "X_train, X_test, y_train, y_test = train_test_split(\n",
    "    data, digi.target, test_size=0.5, shuffle=False)"
   ]
  },
  {
   "cell_type": "code",
   "execution_count": 12,
   "id": "49e92f81-b9ee-4a46-a07c-572c6fabbea6",
   "metadata": {},
   "outputs": [
    {
     "name": "stdout",
     "output_type": "stream",
     "text": [
      "The classifiers were able to fit four of the values\n"
     ]
    },
    {
     "data": {
      "image/png": "[encoded data removed]",
      "text/plain": [
       "<Figure size 720x216 with 5 Axes>"
      ]
     },
     "metadata": {
      "needs_background": "light"
     },
     "output_type": "display_data"
    }
   ],
   "source": [
    "# 6.1 Learn the digits on the train subset\n",
    "clf.fit(X_train, y_train)\n",
    "\n",
    "#Step 6.2 Value fitted in the classifiers  \n",
    "\n",
    "print('The classifiers were able to fit four of the values')\n",
    "_, axes = plt.subplots(nrows=1, ncols=5, figsize=(10, 3))\n",
    "for ax, image, label in zip(axes, X_train, y_train ):\n",
    "    ax.set_axis_off()\n",
    "    image = image.reshape(8, 8)\n",
    "    ax.imshow(image, cmap=plt.cm.gray_r, interpolation='nearest')\n",
    "    ax.set_title('Labelled as : %i' % label,  fontsize = 5)"
   ]
  },
  {
   "cell_type": "code",
   "execution_count": 13,
   "id": "0f9bb062-36af-4543-b9df-f755b5ccf3cd",
   "metadata": {},
   "outputs": [
    {
     "name": "stdout",
     "output_type": "stream",
     "text": [
      "              precision    recall  f1-score   support\n",
      "\n",
      "           0       0.99      0.99      0.99        88\n",
      "           1       0.97      0.97      0.97        91\n",
      "           2       0.98      1.00      0.99        84\n",
      "           3       0.87      0.98      0.92        81\n",
      "           4       0.96      0.99      0.97        89\n",
      "           5       0.97      0.93      0.95        95\n",
      "           6       0.99      0.99      0.99        91\n",
      "           7       0.99      0.95      0.97        93\n",
      "           8       0.95      0.92      0.94        91\n",
      "           9       0.96      0.92      0.94        96\n",
      "\n",
      "    accuracy                           0.96       899\n",
      "   macro avg       0.96      0.96      0.96       899\n",
      "weighted avg       0.96      0.96      0.96       899\n",
      "\n"
     ]
    },
    {
     "data": {
      "image/png": "[encoded data removed]",
      "text/plain": [
       "<Figure size 720x216 with 5 Axes>"
      ]
     },
     "metadata": {
      "needs_background": "light"
     },
     "output_type": "display_data"
    }
   ],
   "source": [
    "    \n",
    "# Step 7. Predict the test subset's digit value.\n",
    "predicted = clf.predict(X_test)\n",
    "#Kprediction = Kclf.predict(X_test)\n",
    "\n",
    "_, axes = plt.subplots(nrows=1, ncols=5, figsize=(10, 3))\n",
    "for ax, image, label, target in zip(axes, X_test, predicted, y_test ):\n",
    "    ax.set_axis_off()\n",
    "    image = image.reshape(8, 8)\n",
    "    ax.imshow(image, cmap=plt.cm.gray_r, interpolation='nearest')\n",
    "    ax.set_title('Predicted: %i \\n Target: %i' % (label, target),  fontsize = 5)\n",
    "\n",
    "\n",
    "# Analysis of predictions\n",
    "print(metrics.classification_report(predicted, y_test))\n"
   ]
  },
  {
   "cell_type": "code",
   "execution_count": null,
   "id": "de15b515-9e99-4581-a560-964c73424be4",
   "metadata": {},
   "outputs": [],
   "source": []
  },
  {
   "cell_type": "code",
   "execution_count": null,
   "id": "3e1ad02e-0272-48f9-8360-e63e86233ddf",
   "metadata": {},
   "outputs": [],
   "source": []
  },
  {
   "cell_type": "code",
   "execution_count": null,
   "id": "0305c11f-dbb9-481f-9738-b8427338907c",
   "metadata": {},
   "outputs": [],
   "source": []
  },
  {
   "cell_type": "code",
   "execution_count": null,
   "id": "2806ef89-e94d-4e13-8c8f-9ad0c58d6c97",
   "metadata": {},
   "outputs": [],
   "source": []
  }
 ],
 "metadata": {
  "kernelspec": {
   "display_name": "Python 3 (ipykernel)",
   "language": "python",
   "name": "python3"
  },
  "language_info": {
   "codemirror_mode": {
    "name": "ipython",
    "version": 3
   },
   "file_extension": ".py",
   "mimetype": "text/x-python",
   "name": "python",
   "nbconvert_exporter": "python",
   "pygments_lexer": "ipython3",
   "version": "3.8.12"
  }
 },
 "nbformat": 4,
 "nbformat_minor": 5
}
